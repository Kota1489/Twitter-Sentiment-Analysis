{
 "cells": [
  {
   "cell_type": "code",
   "execution_count": 102,
   "id": "e2ae499b",
   "metadata": {},
   "outputs": [],
   "source": [
    "import tweepy\n",
    "from textblob import TextBlob\n",
    "import pandas as pd\n",
    "import re\n",
    "import matplotlib.pyplot as plt\n",
    "import warnings\n",
    "warnings.filterwarnings(\"ignore\")"
   ]
  },
  {
   "cell_type": "code",
   "execution_count": 20,
   "id": "bd0ef9fa",
   "metadata": {},
   "outputs": [],
   "source": [
    "log =  pd.read_csv('credential.csv')"
   ]
  },
  {
   "cell_type": "code",
   "execution_count": 21,
   "id": "2acdf9f9",
   "metadata": {},
   "outputs": [
    {
     "data": {
      "text/html": [
       "<div>\n",
       "<style scoped>\n",
       "    .dataframe tbody tr th:only-of-type {\n",
       "        vertical-align: middle;\n",
       "    }\n",
       "\n",
       "    .dataframe tbody tr th {\n",
       "        vertical-align: top;\n",
       "    }\n",
       "\n",
       "    .dataframe thead th {\n",
       "        text-align: right;\n",
       "    }\n",
       "</style>\n",
       "<table border=\"1\" class=\"dataframe\">\n",
       "  <thead>\n",
       "    <tr style=\"text-align: right;\">\n",
       "      <th></th>\n",
       "      <th>APIKey</th>\n",
       "      <th>APIKey_Secret</th>\n",
       "      <th>Bearer_Token</th>\n",
       "      <th>Access_Token</th>\n",
       "      <th>Access_Token_Secret</th>\n",
       "      <th>Client_Secret</th>\n",
       "      <th>Client_ID</th>\n",
       "    </tr>\n",
       "  </thead>\n",
       "  <tbody>\n",
       "    <tr>\n",
       "      <th>0</th>\n",
       "      <td>hKcXmiuOqnJi3I5K5J8Btd6Q3</td>\n",
       "      <td>lGHUjdZNmmqLoQhpRur7rVldBGboidZtgykRu418Q54JmL...</td>\n",
       "      <td>AAAAAAAAAAAAAAAAAAAAAAugbAEAAAAAJ%2Bl4l3i8yioX...</td>\n",
       "      <td>1511322388864147458-n3l2AzZyMZz2rYdoJWElTXmxpi...</td>\n",
       "      <td>GSJh5y6tGqerSJGPBfEp2GWhEQeHEoMvakDsgbSOiCNKG</td>\n",
       "      <td>NvV1twvN2K6E_24L-2Y60ahhFRy6BpcwlwgQV5pA6ymgM3...</td>\n",
       "      <td>TU0zOFlwU0NGZU0tekdDRXJlZ1c6MTpjaQ</td>\n",
       "    </tr>\n",
       "  </tbody>\n",
       "</table>\n",
       "</div>"
      ],
      "text/plain": [
       "                      APIKey  \\\n",
       "0  hKcXmiuOqnJi3I5K5J8Btd6Q3   \n",
       "\n",
       "                                       APIKey_Secret  \\\n",
       "0  lGHUjdZNmmqLoQhpRur7rVldBGboidZtgykRu418Q54JmL...   \n",
       "\n",
       "                                        Bearer_Token  \\\n",
       "0  AAAAAAAAAAAAAAAAAAAAAAugbAEAAAAAJ%2Bl4l3i8yioX...   \n",
       "\n",
       "                                        Access_Token  \\\n",
       "0  1511322388864147458-n3l2AzZyMZz2rYdoJWElTXmxpi...   \n",
       "\n",
       "                             Access_Token_Secret  \\\n",
       "0  GSJh5y6tGqerSJGPBfEp2GWhEQeHEoMvakDsgbSOiCNKG   \n",
       "\n",
       "                                       Client_Secret  \\\n",
       "0  NvV1twvN2K6E_24L-2Y60ahhFRy6BpcwlwgQV5pA6ymgM3...   \n",
       "\n",
       "                            Client_ID  \n",
       "0  TU0zOFlwU0NGZU0tekdDRXJlZ1c6MTpjaQ  "
      ]
     },
     "execution_count": 21,
     "metadata": {},
     "output_type": "execute_result"
    }
   ],
   "source": [
    "log"
   ]
  },
  {
   "cell_type": "code",
   "execution_count": 22,
   "id": "2895f0b2",
   "metadata": {},
   "outputs": [
    {
     "data": {
      "text/plain": [
       "'1511322388864147458-n3l2AzZyMZz2rYdoJWElTXmxpimjHF'"
      ]
     },
     "execution_count": 22,
     "metadata": {},
     "output_type": "execute_result"
    }
   ],
   "source": [
    "log[\"Access_Token\"][0]"
   ]
  },
  {
   "cell_type": "code",
   "execution_count": 27,
   "id": "19a93507",
   "metadata": {},
   "outputs": [],
   "source": [
    "consumerKey = log[\"APIKey\"][0]\n",
    "consumerSecret = log[\"APIKey_Secret\"][0]\n",
    "accessToken = log[\"Access_Token\"][0]\n",
    "accessTokenSecret = log[\"Access_Token_Secret\"][0]"
   ]
  },
  {
   "cell_type": "code",
   "execution_count": 24,
   "id": "a39465a9",
   "metadata": {},
   "outputs": [
    {
     "data": {
      "text/plain": [
       "'hKcXmiuOqnJi3I5K5J8Btd6Q3'"
      ]
     },
     "execution_count": 24,
     "metadata": {},
     "output_type": "execute_result"
    }
   ],
   "source": [
    "consumerKey"
   ]
  },
  {
   "cell_type": "code",
   "execution_count": 26,
   "id": "ff6f3c7c",
   "metadata": {},
   "outputs": [],
   "source": [
    "# consumerkey = log[\"key\"][0]\n",
    "# consumerSecret = log[\"key\"][1]\n",
    "# accessToken = log[\"key\"][2]\n",
    "# accessTokenSecret = log[\"key\"][3]"
   ]
  },
  {
   "cell_type": "code",
   "execution_count": null,
   "id": "dac8d998",
   "metadata": {},
   "outputs": [],
   "source": [
    "oauth2_user_handler = tweepy.OAuth2UserHandler(\n",
    "    client_id=log[\"Client_ID\"][0],\n",
    "    redirect_uri=\"http://127.0.0.1:1410\",\n",
    "    scope=[\"Scope here\", \"Scope here\"],\n",
    "    # Client Secret is only necessary if using a confidential client\n",
    "    client_secret= log[\"Client_Secret\"][0]\n",
    ")"
   ]
  },
  {
   "cell_type": "code",
   "execution_count": 28,
   "id": "f853e7c3",
   "metadata": {},
   "outputs": [],
   "source": [
    "authenticate = tweepy.OAuthHandler(consumerKey, consumerSecret)\n",
    "\n",
    "authenticate.set_access_token(accessToken, accessTokenSecret)\n",
    "\n",
    "api = tweepy.API(authenticate, wait_on_rate_limit=True)"
   ]
  },
  {
   "cell_type": "code",
   "execution_count": 29,
   "id": "126c769b",
   "metadata": {},
   "outputs": [],
   "source": [
    "search_term = 'bitcoin -filter:retweets'\n",
    "\n",
    "tweets = tweepy.Cursor(api.search_tweets, q=search_term, lang='en', tweet_mode='extended').items(200)\n",
    "\n",
    "#all_tweets = [tweet.full_text for tweet in tweets]"
   ]
  },
  {
   "cell_type": "code",
   "execution_count": 30,
   "id": "a2680fda",
   "metadata": {},
   "outputs": [
    {
     "ename": "Forbidden",
     "evalue": "403 Forbidden\n453 - You currently have Essential access which includes access to Twitter API v2 endpoints only. If you need access to this endpoint, you’ll need to apply for Elevated access via the Developer Portal. You can learn more here: https://developer.twitter.com/en/docs/twitter-api/getting-started/about-twitter-api#v2-access-leve",
     "output_type": "error",
     "traceback": [
      "\u001b[1;31m---------------------------------------------------------------------------\u001b[0m",
      "\u001b[1;31mForbidden\u001b[0m                                 Traceback (most recent call last)",
      "\u001b[1;32mC:\\Users\\AMIRAH~1\\AppData\\Local\\Temp/ipykernel_15592/1485880194.py\u001b[0m in \u001b[0;36m<module>\u001b[1;34m\u001b[0m\n\u001b[1;32m----> 1\u001b[1;33m \u001b[1;32mfor\u001b[0m \u001b[0mtweet\u001b[0m \u001b[1;32min\u001b[0m \u001b[0mtweets\u001b[0m\u001b[1;33m:\u001b[0m\u001b[1;33m\u001b[0m\u001b[1;33m\u001b[0m\u001b[0m\n\u001b[0m\u001b[0;32m      2\u001b[0m     \u001b[0mprint\u001b[0m\u001b[1;33m(\u001b[0m\u001b[0mtweet\u001b[0m\u001b[1;33m.\u001b[0m\u001b[0mtext\u001b[0m\u001b[1;33m)\u001b[0m\u001b[1;33m\u001b[0m\u001b[1;33m\u001b[0m\u001b[0m\n",
      "\u001b[1;32mC:\\ProgramData\\Anaconda3\\lib\\site-packages\\tweepy\\cursor.py\u001b[0m in \u001b[0;36m__next__\u001b[1;34m(self)\u001b[0m\n\u001b[0;32m     84\u001b[0m \u001b[1;33m\u001b[0m\u001b[0m\n\u001b[0;32m     85\u001b[0m     \u001b[1;32mdef\u001b[0m \u001b[0m__next__\u001b[0m\u001b[1;33m(\u001b[0m\u001b[0mself\u001b[0m\u001b[1;33m)\u001b[0m\u001b[1;33m:\u001b[0m\u001b[1;33m\u001b[0m\u001b[1;33m\u001b[0m\u001b[0m\n\u001b[1;32m---> 86\u001b[1;33m         \u001b[1;32mreturn\u001b[0m \u001b[0mself\u001b[0m\u001b[1;33m.\u001b[0m\u001b[0mnext\u001b[0m\u001b[1;33m(\u001b[0m\u001b[1;33m)\u001b[0m\u001b[1;33m\u001b[0m\u001b[1;33m\u001b[0m\u001b[0m\n\u001b[0m\u001b[0;32m     87\u001b[0m \u001b[1;33m\u001b[0m\u001b[0m\n\u001b[0;32m     88\u001b[0m     \u001b[1;32mdef\u001b[0m \u001b[0mnext\u001b[0m\u001b[1;33m(\u001b[0m\u001b[0mself\u001b[0m\u001b[1;33m)\u001b[0m\u001b[1;33m:\u001b[0m\u001b[1;33m\u001b[0m\u001b[1;33m\u001b[0m\u001b[0m\n",
      "\u001b[1;32mC:\\ProgramData\\Anaconda3\\lib\\site-packages\\tweepy\\cursor.py\u001b[0m in \u001b[0;36mnext\u001b[1;34m(self)\u001b[0m\n\u001b[0;32m    284\u001b[0m         \u001b[1;32mif\u001b[0m \u001b[0mself\u001b[0m\u001b[1;33m.\u001b[0m\u001b[0mcurrent_page\u001b[0m \u001b[1;32mis\u001b[0m \u001b[1;32mNone\u001b[0m \u001b[1;32mor\u001b[0m \u001b[0mself\u001b[0m\u001b[1;33m.\u001b[0m\u001b[0mpage_index\u001b[0m \u001b[1;33m==\u001b[0m \u001b[0mlen\u001b[0m\u001b[1;33m(\u001b[0m\u001b[0mself\u001b[0m\u001b[1;33m.\u001b[0m\u001b[0mcurrent_page\u001b[0m\u001b[1;33m)\u001b[0m \u001b[1;33m-\u001b[0m \u001b[1;36m1\u001b[0m\u001b[1;33m:\u001b[0m\u001b[1;33m\u001b[0m\u001b[1;33m\u001b[0m\u001b[0m\n\u001b[0;32m    285\u001b[0m             \u001b[1;31m# Reached end of current page, get the next page...\u001b[0m\u001b[1;33m\u001b[0m\u001b[1;33m\u001b[0m\u001b[0m\n\u001b[1;32m--> 286\u001b[1;33m             \u001b[0mself\u001b[0m\u001b[1;33m.\u001b[0m\u001b[0mcurrent_page\u001b[0m \u001b[1;33m=\u001b[0m \u001b[0mnext\u001b[0m\u001b[1;33m(\u001b[0m\u001b[0mself\u001b[0m\u001b[1;33m.\u001b[0m\u001b[0mpage_iterator\u001b[0m\u001b[1;33m)\u001b[0m\u001b[1;33m\u001b[0m\u001b[1;33m\u001b[0m\u001b[0m\n\u001b[0m\u001b[0;32m    287\u001b[0m             \u001b[1;32mwhile\u001b[0m \u001b[0mlen\u001b[0m\u001b[1;33m(\u001b[0m\u001b[0mself\u001b[0m\u001b[1;33m.\u001b[0m\u001b[0mcurrent_page\u001b[0m\u001b[1;33m)\u001b[0m \u001b[1;33m==\u001b[0m \u001b[1;36m0\u001b[0m\u001b[1;33m:\u001b[0m\u001b[1;33m\u001b[0m\u001b[1;33m\u001b[0m\u001b[0m\n\u001b[0;32m    288\u001b[0m                 \u001b[0mself\u001b[0m\u001b[1;33m.\u001b[0m\u001b[0mcurrent_page\u001b[0m \u001b[1;33m=\u001b[0m \u001b[0mnext\u001b[0m\u001b[1;33m(\u001b[0m\u001b[0mself\u001b[0m\u001b[1;33m.\u001b[0m\u001b[0mpage_iterator\u001b[0m\u001b[1;33m)\u001b[0m\u001b[1;33m\u001b[0m\u001b[1;33m\u001b[0m\u001b[0m\n",
      "\u001b[1;32mC:\\ProgramData\\Anaconda3\\lib\\site-packages\\tweepy\\cursor.py\u001b[0m in \u001b[0;36m__next__\u001b[1;34m(self)\u001b[0m\n\u001b[0;32m     84\u001b[0m \u001b[1;33m\u001b[0m\u001b[0m\n\u001b[0;32m     85\u001b[0m     \u001b[1;32mdef\u001b[0m \u001b[0m__next__\u001b[0m\u001b[1;33m(\u001b[0m\u001b[0mself\u001b[0m\u001b[1;33m)\u001b[0m\u001b[1;33m:\u001b[0m\u001b[1;33m\u001b[0m\u001b[1;33m\u001b[0m\u001b[0m\n\u001b[1;32m---> 86\u001b[1;33m         \u001b[1;32mreturn\u001b[0m \u001b[0mself\u001b[0m\u001b[1;33m.\u001b[0m\u001b[0mnext\u001b[0m\u001b[1;33m(\u001b[0m\u001b[1;33m)\u001b[0m\u001b[1;33m\u001b[0m\u001b[1;33m\u001b[0m\u001b[0m\n\u001b[0m\u001b[0;32m     87\u001b[0m \u001b[1;33m\u001b[0m\u001b[0m\n\u001b[0;32m     88\u001b[0m     \u001b[1;32mdef\u001b[0m \u001b[0mnext\u001b[0m\u001b[1;33m(\u001b[0m\u001b[0mself\u001b[0m\u001b[1;33m)\u001b[0m\u001b[1;33m:\u001b[0m\u001b[1;33m\u001b[0m\u001b[1;33m\u001b[0m\u001b[0m\n",
      "\u001b[1;32mC:\\ProgramData\\Anaconda3\\lib\\site-packages\\tweepy\\cursor.py\u001b[0m in \u001b[0;36mnext\u001b[1;34m(self)\u001b[0m\n\u001b[0;32m    165\u001b[0m \u001b[1;33m\u001b[0m\u001b[0m\n\u001b[0;32m    166\u001b[0m         \u001b[1;32mif\u001b[0m \u001b[0mself\u001b[0m\u001b[1;33m.\u001b[0m\u001b[0mindex\u001b[0m \u001b[1;33m>=\u001b[0m \u001b[0mlen\u001b[0m\u001b[1;33m(\u001b[0m\u001b[0mself\u001b[0m\u001b[1;33m.\u001b[0m\u001b[0mresults\u001b[0m\u001b[1;33m)\u001b[0m \u001b[1;33m-\u001b[0m \u001b[1;36m1\u001b[0m\u001b[1;33m:\u001b[0m\u001b[1;33m\u001b[0m\u001b[1;33m\u001b[0m\u001b[0m\n\u001b[1;32m--> 167\u001b[1;33m             \u001b[0mdata\u001b[0m \u001b[1;33m=\u001b[0m \u001b[0mself\u001b[0m\u001b[1;33m.\u001b[0m\u001b[0mmethod\u001b[0m\u001b[1;33m(\u001b[0m\u001b[0mmax_id\u001b[0m\u001b[1;33m=\u001b[0m\u001b[0mself\u001b[0m\u001b[1;33m.\u001b[0m\u001b[0mmax_id\u001b[0m\u001b[1;33m,\u001b[0m \u001b[0mparser\u001b[0m\u001b[1;33m=\u001b[0m\u001b[0mRawParser\u001b[0m\u001b[1;33m(\u001b[0m\u001b[1;33m)\u001b[0m\u001b[1;33m,\u001b[0m \u001b[1;33m*\u001b[0m\u001b[0mself\u001b[0m\u001b[1;33m.\u001b[0m\u001b[0margs\u001b[0m\u001b[1;33m,\u001b[0m \u001b[1;33m**\u001b[0m\u001b[0mself\u001b[0m\u001b[1;33m.\u001b[0m\u001b[0mkwargs\u001b[0m\u001b[1;33m)\u001b[0m\u001b[1;33m\u001b[0m\u001b[1;33m\u001b[0m\u001b[0m\n\u001b[0m\u001b[0;32m    168\u001b[0m \u001b[1;33m\u001b[0m\u001b[0m\n\u001b[0;32m    169\u001b[0m             model = ModelParser().parse(\n",
      "\u001b[1;32mC:\\ProgramData\\Anaconda3\\lib\\site-packages\\tweepy\\api.py\u001b[0m in \u001b[0;36mwrapper\u001b[1;34m(*args, **kwargs)\u001b[0m\n\u001b[0;32m     31\u001b[0m         \u001b[1;33m@\u001b[0m\u001b[0mfunctools\u001b[0m\u001b[1;33m.\u001b[0m\u001b[0mwraps\u001b[0m\u001b[1;33m(\u001b[0m\u001b[0mmethod\u001b[0m\u001b[1;33m)\u001b[0m\u001b[1;33m\u001b[0m\u001b[1;33m\u001b[0m\u001b[0m\n\u001b[0;32m     32\u001b[0m         \u001b[1;32mdef\u001b[0m \u001b[0mwrapper\u001b[0m\u001b[1;33m(\u001b[0m\u001b[1;33m*\u001b[0m\u001b[0margs\u001b[0m\u001b[1;33m,\u001b[0m \u001b[1;33m**\u001b[0m\u001b[0mkwargs\u001b[0m\u001b[1;33m)\u001b[0m\u001b[1;33m:\u001b[0m\u001b[1;33m\u001b[0m\u001b[1;33m\u001b[0m\u001b[0m\n\u001b[1;32m---> 33\u001b[1;33m             \u001b[1;32mreturn\u001b[0m \u001b[0mmethod\u001b[0m\u001b[1;33m(\u001b[0m\u001b[1;33m*\u001b[0m\u001b[0margs\u001b[0m\u001b[1;33m,\u001b[0m \u001b[1;33m**\u001b[0m\u001b[0mkwargs\u001b[0m\u001b[1;33m)\u001b[0m\u001b[1;33m\u001b[0m\u001b[1;33m\u001b[0m\u001b[0m\n\u001b[0m\u001b[0;32m     34\u001b[0m         \u001b[0mwrapper\u001b[0m\u001b[1;33m.\u001b[0m\u001b[0mpagination_mode\u001b[0m \u001b[1;33m=\u001b[0m \u001b[0mmode\u001b[0m\u001b[1;33m\u001b[0m\u001b[1;33m\u001b[0m\u001b[0m\n\u001b[0;32m     35\u001b[0m         \u001b[1;32mreturn\u001b[0m \u001b[0mwrapper\u001b[0m\u001b[1;33m\u001b[0m\u001b[1;33m\u001b[0m\u001b[0m\n",
      "\u001b[1;32mC:\\ProgramData\\Anaconda3\\lib\\site-packages\\tweepy\\api.py\u001b[0m in \u001b[0;36mwrapper\u001b[1;34m(*args, **kwargs)\u001b[0m\n\u001b[0;32m     44\u001b[0m             \u001b[0mkwargs\u001b[0m\u001b[1;33m[\u001b[0m\u001b[1;34m'payload_list'\u001b[0m\u001b[1;33m]\u001b[0m \u001b[1;33m=\u001b[0m \u001b[0mpayload_list\u001b[0m\u001b[1;33m\u001b[0m\u001b[1;33m\u001b[0m\u001b[0m\n\u001b[0;32m     45\u001b[0m             \u001b[0mkwargs\u001b[0m\u001b[1;33m[\u001b[0m\u001b[1;34m'payload_type'\u001b[0m\u001b[1;33m]\u001b[0m \u001b[1;33m=\u001b[0m \u001b[0mpayload_type\u001b[0m\u001b[1;33m\u001b[0m\u001b[1;33m\u001b[0m\u001b[0m\n\u001b[1;32m---> 46\u001b[1;33m             \u001b[1;32mreturn\u001b[0m \u001b[0mmethod\u001b[0m\u001b[1;33m(\u001b[0m\u001b[1;33m*\u001b[0m\u001b[0margs\u001b[0m\u001b[1;33m,\u001b[0m \u001b[1;33m**\u001b[0m\u001b[0mkwargs\u001b[0m\u001b[1;33m)\u001b[0m\u001b[1;33m\u001b[0m\u001b[1;33m\u001b[0m\u001b[0m\n\u001b[0m\u001b[0;32m     47\u001b[0m         \u001b[0mwrapper\u001b[0m\u001b[1;33m.\u001b[0m\u001b[0mpayload_list\u001b[0m \u001b[1;33m=\u001b[0m \u001b[0mpayload_list\u001b[0m\u001b[1;33m\u001b[0m\u001b[1;33m\u001b[0m\u001b[0m\n\u001b[0;32m     48\u001b[0m         \u001b[0mwrapper\u001b[0m\u001b[1;33m.\u001b[0m\u001b[0mpayload_type\u001b[0m \u001b[1;33m=\u001b[0m \u001b[0mpayload_type\u001b[0m\u001b[1;33m\u001b[0m\u001b[1;33m\u001b[0m\u001b[0m\n",
      "\u001b[1;32mC:\\ProgramData\\Anaconda3\\lib\\site-packages\\tweepy\\api.py\u001b[0m in \u001b[0;36msearch_tweets\u001b[1;34m(self, q, **kwargs)\u001b[0m\n\u001b[0;32m   1301\u001b[0m         \u001b[1;33m.\u001b[0m\u001b[1;33m.\u001b[0m \u001b[0m_Twitter\u001b[0m\u001b[0;31m'\u001b[0m\u001b[0ms\u001b[0m \u001b[0mdocumentation\u001b[0m \u001b[0mon\u001b[0m \u001b[0mthe\u001b[0m \u001b[0mstandard\u001b[0m \u001b[0msearch\u001b[0m \u001b[0mAPI\u001b[0m\u001b[1;33m:\u001b[0m \u001b[0mhttps\u001b[0m\u001b[1;33m:\u001b[0m\u001b[1;33m//\u001b[0m\u001b[0mdeveloper\u001b[0m\u001b[1;33m.\u001b[0m\u001b[0mtwitter\u001b[0m\u001b[1;33m.\u001b[0m\u001b[0mcom\u001b[0m\u001b[1;33m/\u001b[0m\u001b[0men\u001b[0m\u001b[1;33m/\u001b[0m\u001b[0mdocs\u001b[0m\u001b[1;33m/\u001b[0m\u001b[0mtwitter\u001b[0m\u001b[1;33m-\u001b[0m\u001b[0mapi\u001b[0m\u001b[1;33m/\u001b[0m\u001b[0mv1\u001b[0m\u001b[1;33m/\u001b[0m\u001b[0mtweets\u001b[0m\u001b[1;33m/\u001b[0m\u001b[0msearch\u001b[0m\u001b[1;33m/\u001b[0m\u001b[0moverview\u001b[0m\u001b[1;33m\u001b[0m\u001b[1;33m\u001b[0m\u001b[0m\n\u001b[0;32m   1302\u001b[0m         \"\"\"\n\u001b[1;32m-> 1303\u001b[1;33m         return self.request(\n\u001b[0m\u001b[0;32m   1304\u001b[0m             'GET', 'search/tweets', endpoint_parameters=(\n\u001b[0;32m   1305\u001b[0m                 \u001b[1;34m'q'\u001b[0m\u001b[1;33m,\u001b[0m \u001b[1;34m'geocode'\u001b[0m\u001b[1;33m,\u001b[0m \u001b[1;34m'lang'\u001b[0m\u001b[1;33m,\u001b[0m \u001b[1;34m'locale'\u001b[0m\u001b[1;33m,\u001b[0m \u001b[1;34m'result_type'\u001b[0m\u001b[1;33m,\u001b[0m \u001b[1;34m'count'\u001b[0m\u001b[1;33m,\u001b[0m\u001b[1;33m\u001b[0m\u001b[1;33m\u001b[0m\u001b[0m\n",
      "\u001b[1;32mC:\\ProgramData\\Anaconda3\\lib\\site-packages\\tweepy\\api.py\u001b[0m in \u001b[0;36mrequest\u001b[1;34m(self, method, endpoint, endpoint_parameters, params, headers, json_payload, parser, payload_list, payload_type, post_data, files, require_auth, return_cursors, upload_api, use_cache, **kwargs)\u001b[0m\n\u001b[0;32m    257\u001b[0m                 \u001b[1;32mraise\u001b[0m \u001b[0mUnauthorized\u001b[0m\u001b[1;33m(\u001b[0m\u001b[0mresp\u001b[0m\u001b[1;33m)\u001b[0m\u001b[1;33m\u001b[0m\u001b[1;33m\u001b[0m\u001b[0m\n\u001b[0;32m    258\u001b[0m             \u001b[1;32mif\u001b[0m \u001b[0mresp\u001b[0m\u001b[1;33m.\u001b[0m\u001b[0mstatus_code\u001b[0m \u001b[1;33m==\u001b[0m \u001b[1;36m403\u001b[0m\u001b[1;33m:\u001b[0m\u001b[1;33m\u001b[0m\u001b[1;33m\u001b[0m\u001b[0m\n\u001b[1;32m--> 259\u001b[1;33m                 \u001b[1;32mraise\u001b[0m \u001b[0mForbidden\u001b[0m\u001b[1;33m(\u001b[0m\u001b[0mresp\u001b[0m\u001b[1;33m)\u001b[0m\u001b[1;33m\u001b[0m\u001b[1;33m\u001b[0m\u001b[0m\n\u001b[0m\u001b[0;32m    260\u001b[0m             \u001b[1;32mif\u001b[0m \u001b[0mresp\u001b[0m\u001b[1;33m.\u001b[0m\u001b[0mstatus_code\u001b[0m \u001b[1;33m==\u001b[0m \u001b[1;36m404\u001b[0m\u001b[1;33m:\u001b[0m\u001b[1;33m\u001b[0m\u001b[1;33m\u001b[0m\u001b[0m\n\u001b[0;32m    261\u001b[0m                 \u001b[1;32mraise\u001b[0m \u001b[0mNotFound\u001b[0m\u001b[1;33m(\u001b[0m\u001b[0mresp\u001b[0m\u001b[1;33m)\u001b[0m\u001b[1;33m\u001b[0m\u001b[1;33m\u001b[0m\u001b[0m\n",
      "\u001b[1;31mForbidden\u001b[0m: 403 Forbidden\n453 - You currently have Essential access which includes access to Twitter API v2 endpoints only. If you need access to this endpoint, you’ll need to apply for Elevated access via the Developer Portal. You can learn more here: https://developer.twitter.com/en/docs/twitter-api/getting-started/about-twitter-api#v2-access-leve"
     ]
    }
   ],
   "source": [
    "for tweet in tweets:\n",
    "    print(tweet.text)"
   ]
  },
  {
   "cell_type": "code",
   "execution_count": null,
   "id": "682f9b81",
   "metadata": {},
   "outputs": [],
   "source": [
    "tweets"
   ]
  },
  {
   "cell_type": "code",
   "execution_count": null,
   "id": "7535f4d9",
   "metadata": {},
   "outputs": [],
   "source": [
    "df = pd.DataFrame(all_tweets, columns=['Tweets'])\n",
    "\n",
    "df.head(5)"
   ]
  },
  {
   "cell_type": "markdown",
   "id": "619ac043",
   "metadata": {},
   "source": [
    "# Reading Excel dataset"
   ]
  },
  {
   "cell_type": "code",
   "execution_count": 145,
   "id": "5d6577ac",
   "metadata": {},
   "outputs": [],
   "source": [
    "df =  pd.read_csv('Bitcoin_tweets.csv',low_memory=False)"
   ]
  },
  {
   "cell_type": "code",
   "execution_count": 146,
   "id": "308bad6f",
   "metadata": {},
   "outputs": [
    {
     "data": {
      "text/plain": [
       "2573224"
      ]
     },
     "execution_count": 146,
     "metadata": {},
     "output_type": "execute_result"
    }
   ],
   "source": [
    "df[raw_data.columns[0]].count() #checking rowcount"
   ]
  },
  {
   "cell_type": "markdown",
   "id": "f214adae",
   "metadata": {},
   "source": [
    "#### Data Cleaning"
   ]
  },
  {
   "cell_type": "code",
   "execution_count": 147,
   "id": "4adaf7c2",
   "metadata": {},
   "outputs": [
    {
     "data": {
      "text/plain": [
       "2514313"
      ]
     },
     "execution_count": 147,
     "metadata": {},
     "output_type": "execute_result"
    }
   ],
   "source": [
    "df = df.drop_duplicates('text',keep='first') # removing duplicate tweets\n",
    "\n",
    "df[df.columns[0]].count()"
   ]
  },
  {
   "cell_type": "code",
   "execution_count": 148,
   "id": "8897224d",
   "metadata": {},
   "outputs": [],
   "source": [
    "#selecting only required columns\n",
    "df = df[[\"user_name\",\"user_followers\",\"user_verified\",\"date\",\"text\",\"is_retweet\"]] "
   ]
  },
  {
   "cell_type": "code",
   "execution_count": 149,
   "id": "d80c8921",
   "metadata": {},
   "outputs": [
    {
     "data": {
      "text/plain": [
       "2514082"
      ]
     },
     "execution_count": 149,
     "metadata": {},
     "output_type": "execute_result"
    }
   ],
   "source": [
    "# removing retweets and nan\n",
    "df = df[df[\"is_retweet\"]==False]\n",
    "\n",
    "df[df.columns[0]].count()"
   ]
  },
  {
   "cell_type": "code",
   "execution_count": 150,
   "id": "dcc598a2",
   "metadata": {},
   "outputs": [
    {
     "data": {
      "text/plain": [
       "7590"
      ]
     },
     "execution_count": 150,
     "metadata": {},
     "output_type": "execute_result"
    }
   ],
   "source": [
    "# Selecting only influencers (verified account and have followers over 100K)\n",
    "\n",
    "df = df[df[\"user_followers\"]>=100000]\n",
    "\n",
    "df = df[clean_data4[\"user_verified\"]==\"True\"]\n",
    "\n",
    "df[df.columns[0]].count()"
   ]
  },
  {
   "cell_type": "code",
   "execution_count": 151,
   "id": "7aef674d",
   "metadata": {},
   "outputs": [
    {
     "name": "stdout",
     "output_type": "stream",
     "text": [
      "Max date=  2022-03-19 23:58:54\n",
      "Min date=  2021-02-05 16:34:06\n"
     ]
    }
   ],
   "source": [
    "#checking date range of tweets\n",
    "print(\"Max date= \", df[\"date\"].max())\n",
    "print(\"Min date= \", df[\"date\"].min())"
   ]
  },
  {
   "cell_type": "code",
   "execution_count": 152,
   "id": "5d999e77",
   "metadata": {},
   "outputs": [],
   "source": [
    "# function to remove emojis, symbols, pictures, map symbols etc\n",
    "def deEmojify(text):\n",
    "    regrex_pattern = re.compile(pattern = \"[\"\n",
    "        u\"\\U0001F600-\\U0001F64F\"  # emoticons\n",
    "        u\"\\U0001F300-\\U0001F5FF\"  # symbols & pictographs\n",
    "        u\"\\U0001F680-\\U0001F6FF\"  # transport & map symbols\n",
    "        u\"\\U0001F1E0-\\U0001F1FF\"  # flags (iOS)\n",
    "                           \"]+\", flags = re.UNICODE)\n",
    "    return regrex_pattern.sub(r'',text)"
   ]
  },
  {
   "cell_type": "code",
   "execution_count": 153,
   "id": "3f2c1d8a",
   "metadata": {},
   "outputs": [],
   "source": [
    "Cleaned_text=[] # list to store clean text\n",
    "\n",
    "for i in range (len(df)):\n",
    "    twt = re.sub('\\\\n', '', df[\"text\"].iloc[i]) # removing \\n\n",
    "    twt = re.sub('#bitcoin', 'bitcoin', twt)             # removing # from #bitcoin\n",
    "    twt = re.sub('#Bitcoin', 'Bitcoin', twt)             # removing # from #Bitcoin\n",
    "    twt = re.sub('#[A-Za-z0-9]+', '', twt)               # removing all the other hashtags\n",
    "    twt = re.sub('https?:\\/\\/\\S+', '', twt)              # removing links\n",
    "    twt = re.sub('@[A-Za-z0-9]+', '', twt)               # removing mentions using regular expression\n",
    "    twt = deEmojify(twt)                                 # removing emojis using regular expression\n",
    "    Cleaned_text.append(twt)\n",
    "\n",
    "df[\"Cleaned_text\"]=Cleaned_text"
   ]
  },
  {
   "cell_type": "code",
   "execution_count": 154,
   "id": "d4de67a7",
   "metadata": {},
   "outputs": [
    {
     "data": {
      "text/html": [
       "<div>\n",
       "<style scoped>\n",
       "    .dataframe tbody tr th:only-of-type {\n",
       "        vertical-align: middle;\n",
       "    }\n",
       "\n",
       "    .dataframe tbody tr th {\n",
       "        vertical-align: top;\n",
       "    }\n",
       "\n",
       "    .dataframe thead th {\n",
       "        text-align: right;\n",
       "    }\n",
       "</style>\n",
       "<table border=\"1\" class=\"dataframe\">\n",
       "  <thead>\n",
       "    <tr style=\"text-align: right;\">\n",
       "      <th></th>\n",
       "      <th>text</th>\n",
       "      <th>Cleaned_text</th>\n",
       "    </tr>\n",
       "  </thead>\n",
       "  <tbody>\n",
       "    <tr>\n",
       "      <th>880</th>\n",
       "      <td>#BlockstreamAQUA is our new #Bitcoin and @Liqu...</td>\n",
       "      <td>is our new Bitcoin and _BTC wallet designed t...</td>\n",
       "    </tr>\n",
       "    <tr>\n",
       "      <th>1411</th>\n",
       "      <td>\"It has to be part of the menu,\" says @JimCram...</td>\n",
       "      <td>\"It has to be part of the menu,\" says  on bitc...</td>\n",
       "    </tr>\n",
       "    <tr>\n",
       "      <th>1615</th>\n",
       "      <td>\"It has to be part of the menu,\" says @JimCram...</td>\n",
       "      <td>\"It has to be part of the menu,\" says  on bitc...</td>\n",
       "    </tr>\n",
       "    <tr>\n",
       "      <th>1665</th>\n",
       "      <td>\"We've done a lot of the upfront thinking to c...</td>\n",
       "      <td>\"We've done a lot of the upfront thinking to c...</td>\n",
       "    </tr>\n",
       "    <tr>\n",
       "      <th>1867</th>\n",
       "      <td>This week, @intotheblock takes a dive into the...</td>\n",
       "      <td>This week,  takes a dive into the rather wacky...</td>\n",
       "    </tr>\n",
       "    <tr>\n",
       "      <th>...</th>\n",
       "      <td>...</td>\n",
       "      <td>...</td>\n",
       "    </tr>\n",
       "    <tr>\n",
       "      <th>2563637</th>\n",
       "      <td>What are you trading today? 😃\\n\\nKeep up to da...</td>\n",
       "      <td>What are you trading today? Keep up to date wi...</td>\n",
       "    </tr>\n",
       "    <tr>\n",
       "      <th>2567623</th>\n",
       "      <td>New #NFTCollection of #Pitbull Characters:Seas...</td>\n",
       "      <td>New  of  Characters:Season 2 is NOW live on➡️➡...</td>\n",
       "    </tr>\n",
       "    <tr>\n",
       "      <th>2567733</th>\n",
       "      <td>2020 we are broke \\n\\n2021 we became rich \\n\\n...</td>\n",
       "      <td>2020 we are broke 2021 we became rich 2022 we ...</td>\n",
       "    </tr>\n",
       "    <tr>\n",
       "      <th>2571611</th>\n",
       "      <td>3/ Next up: Chromium milestone (aka, Satoshi R...</td>\n",
       "      <td>3/ Next up: Chromium milestone (aka, Satoshi R...</td>\n",
       "    </tr>\n",
       "    <tr>\n",
       "      <th>2572680</th>\n",
       "      <td>If #XRP manages to hold above the $0.70 area i...</td>\n",
       "      <td>If  manages to hold above the $0.70 area in th...</td>\n",
       "    </tr>\n",
       "  </tbody>\n",
       "</table>\n",
       "<p>7590 rows × 2 columns</p>\n",
       "</div>"
      ],
      "text/plain": [
       "                                                      text  \\\n",
       "880      #BlockstreamAQUA is our new #Bitcoin and @Liqu...   \n",
       "1411     \"It has to be part of the menu,\" says @JimCram...   \n",
       "1615     \"It has to be part of the menu,\" says @JimCram...   \n",
       "1665     \"We've done a lot of the upfront thinking to c...   \n",
       "1867     This week, @intotheblock takes a dive into the...   \n",
       "...                                                    ...   \n",
       "2563637  What are you trading today? 😃\\n\\nKeep up to da...   \n",
       "2567623  New #NFTCollection of #Pitbull Characters:Seas...   \n",
       "2567733  2020 we are broke \\n\\n2021 we became rich \\n\\n...   \n",
       "2571611  3/ Next up: Chromium milestone (aka, Satoshi R...   \n",
       "2572680  If #XRP manages to hold above the $0.70 area i...   \n",
       "\n",
       "                                              Cleaned_text  \n",
       "880       is our new Bitcoin and _BTC wallet designed t...  \n",
       "1411     \"It has to be part of the menu,\" says  on bitc...  \n",
       "1615     \"It has to be part of the menu,\" says  on bitc...  \n",
       "1665     \"We've done a lot of the upfront thinking to c...  \n",
       "1867     This week,  takes a dive into the rather wacky...  \n",
       "...                                                    ...  \n",
       "2563637  What are you trading today? Keep up to date wi...  \n",
       "2567623  New  of  Characters:Season 2 is NOW live on➡️➡...  \n",
       "2567733  2020 we are broke 2021 we became rich 2022 we ...  \n",
       "2571611  3/ Next up: Chromium milestone (aka, Satoshi R...  \n",
       "2572680  If  manages to hold above the $0.70 area in th...  \n",
       "\n",
       "[7590 rows x 2 columns]"
      ]
     },
     "execution_count": 154,
     "metadata": {},
     "output_type": "execute_result"
    }
   ],
   "source": [
    "df[[\"text\",\"Cleaned_text\"]]"
   ]
  },
  {
   "cell_type": "code",
   "execution_count": 156,
   "id": "31e3c25d",
   "metadata": {},
   "outputs": [],
   "source": [
    "def getSubjectivity(twt):\n",
    "    return TextBlob(twt).sentiment.subjectivity\n",
    "\n",
    "def getPolarity(twt):\n",
    "    return TextBlob(twt).sentiment.polarity\n",
    "\n",
    "df['Subjectivity'] = df['Cleaned_text'].apply(getSubjectivity)\n",
    "df['Polarity'] = df['Cleaned_text'].apply(getPolarity)"
   ]
  },
  {
   "cell_type": "code",
   "execution_count": 157,
   "id": "2b51e7fb",
   "metadata": {},
   "outputs": [],
   "source": [
    "def getSentiment(score):\n",
    "    if score < 0:\n",
    "        return 'Negative'\n",
    "    elif score == 0:\n",
    "        return 'Neutral'\n",
    "    else:\n",
    "        return 'Positive'"
   ]
  },
  {
   "cell_type": "code",
   "execution_count": 158,
   "id": "016ae5df",
   "metadata": {},
   "outputs": [],
   "source": [
    "df['Sentiment'] = df['Polarity'].apply(getSentiment)"
   ]
  },
  {
   "cell_type": "code",
   "execution_count": 159,
   "id": "64fe9334",
   "metadata": {},
   "outputs": [
    {
     "data": {
      "text/html": [
       "<div>\n",
       "<style scoped>\n",
       "    .dataframe tbody tr th:only-of-type {\n",
       "        vertical-align: middle;\n",
       "    }\n",
       "\n",
       "    .dataframe tbody tr th {\n",
       "        vertical-align: top;\n",
       "    }\n",
       "\n",
       "    .dataframe thead th {\n",
       "        text-align: right;\n",
       "    }\n",
       "</style>\n",
       "<table border=\"1\" class=\"dataframe\">\n",
       "  <thead>\n",
       "    <tr style=\"text-align: right;\">\n",
       "      <th></th>\n",
       "      <th>user_name</th>\n",
       "      <th>user_followers</th>\n",
       "      <th>user_verified</th>\n",
       "      <th>date</th>\n",
       "      <th>text</th>\n",
       "      <th>is_retweet</th>\n",
       "      <th>Cleaned_text</th>\n",
       "      <th>Subjectivity</th>\n",
       "      <th>Polarity</th>\n",
       "      <th>Sentiment</th>\n",
       "    </tr>\n",
       "  </thead>\n",
       "  <tbody>\n",
       "    <tr>\n",
       "      <th>880</th>\n",
       "      <td>Blockstream</td>\n",
       "      <td>131970.0</td>\n",
       "      <td>True</td>\n",
       "      <td>2021-02-10 18:02:53</td>\n",
       "      <td>#BlockstreamAQUA is our new #Bitcoin and @Liqu...</td>\n",
       "      <td>False</td>\n",
       "      <td>is our new Bitcoin and _BTC wallet designed t...</td>\n",
       "      <td>0.762626</td>\n",
       "      <td>0.189899</td>\n",
       "      <td>Positive</td>\n",
       "    </tr>\n",
       "    <tr>\n",
       "      <th>1411</th>\n",
       "      <td>CNBC</td>\n",
       "      <td>3977144.0</td>\n",
       "      <td>True</td>\n",
       "      <td>2021-02-10 15:23:58</td>\n",
       "      <td>\"It has to be part of the menu,\" says @JimCram...</td>\n",
       "      <td>False</td>\n",
       "      <td>\"It has to be part of the menu,\" says  on bitc...</td>\n",
       "      <td>0.000000</td>\n",
       "      <td>0.000000</td>\n",
       "      <td>Neutral</td>\n",
       "    </tr>\n",
       "    <tr>\n",
       "      <th>1615</th>\n",
       "      <td>Squawk Box</td>\n",
       "      <td>283910.0</td>\n",
       "      <td>True</td>\n",
       "      <td>2021-02-10 14:12:25</td>\n",
       "      <td>\"It has to be part of the menu,\" says @JimCram...</td>\n",
       "      <td>False</td>\n",
       "      <td>\"It has to be part of the menu,\" says  on bitc...</td>\n",
       "      <td>0.000000</td>\n",
       "      <td>0.000000</td>\n",
       "      <td>Neutral</td>\n",
       "    </tr>\n",
       "    <tr>\n",
       "      <th>1665</th>\n",
       "      <td>Squawk Box</td>\n",
       "      <td>283910.0</td>\n",
       "      <td>True</td>\n",
       "      <td>2021-02-10 13:55:37</td>\n",
       "      <td>\"We've done a lot of the upfront thinking to c...</td>\n",
       "      <td>False</td>\n",
       "      <td>\"We've done a lot of the upfront thinking to c...</td>\n",
       "      <td>0.000000</td>\n",
       "      <td>0.000000</td>\n",
       "      <td>Neutral</td>\n",
       "    </tr>\n",
       "    <tr>\n",
       "      <th>1867</th>\n",
       "      <td>CoinMarketCap</td>\n",
       "      <td>731514.0</td>\n",
       "      <td>True</td>\n",
       "      <td>2021-02-10 12:45:03</td>\n",
       "      <td>This week, @intotheblock takes a dive into the...</td>\n",
       "      <td>False</td>\n",
       "      <td>This week,  takes a dive into the rather wacky...</td>\n",
       "      <td>1.000000</td>\n",
       "      <td>0.500000</td>\n",
       "      <td>Positive</td>\n",
       "    </tr>\n",
       "    <tr>\n",
       "      <th>...</th>\n",
       "      <td>...</td>\n",
       "      <td>...</td>\n",
       "      <td>...</td>\n",
       "      <td>...</td>\n",
       "      <td>...</td>\n",
       "      <td>...</td>\n",
       "      <td>...</td>\n",
       "      <td>...</td>\n",
       "      <td>...</td>\n",
       "      <td>...</td>\n",
       "    </tr>\n",
       "    <tr>\n",
       "      <th>2563637</th>\n",
       "      <td>Phemex</td>\n",
       "      <td>497213.0</td>\n",
       "      <td>True</td>\n",
       "      <td>2022-03-15 08:10:01</td>\n",
       "      <td>What are you trading today? 😃\\n\\nKeep up to da...</td>\n",
       "      <td>False</td>\n",
       "      <td>What are you trading today? Keep up to date wi...</td>\n",
       "      <td>0.000000</td>\n",
       "      <td>0.000000</td>\n",
       "      <td>Neutral</td>\n",
       "    </tr>\n",
       "    <tr>\n",
       "      <th>2567623</th>\n",
       "      <td>Pitbull Token</td>\n",
       "      <td>137248.0</td>\n",
       "      <td>True</td>\n",
       "      <td>2022-03-15 02:57:00</td>\n",
       "      <td>New #NFTCollection of #Pitbull Characters:Seas...</td>\n",
       "      <td>False</td>\n",
       "      <td>New  of  Characters:Season 2 is NOW live on➡️➡...</td>\n",
       "      <td>0.713636</td>\n",
       "      <td>0.218182</td>\n",
       "      <td>Positive</td>\n",
       "    </tr>\n",
       "    <tr>\n",
       "      <th>2567733</th>\n",
       "      <td>Ash WSB</td>\n",
       "      <td>421646.0</td>\n",
       "      <td>True</td>\n",
       "      <td>2022-03-15 02:45:33</td>\n",
       "      <td>2020 we are broke \\n\\n2021 we became rich \\n\\n...</td>\n",
       "      <td>False</td>\n",
       "      <td>2020 we are broke 2021 we became rich 2022 we ...</td>\n",
       "      <td>0.750000</td>\n",
       "      <td>0.375000</td>\n",
       "      <td>Positive</td>\n",
       "    </tr>\n",
       "    <tr>\n",
       "      <th>2571611</th>\n",
       "      <td>DFINITY</td>\n",
       "      <td>579856.0</td>\n",
       "      <td>True</td>\n",
       "      <td>2022-03-14 21:23:09</td>\n",
       "      <td>3/ Next up: Chromium milestone (aka, Satoshi R...</td>\n",
       "      <td>False</td>\n",
       "      <td>3/ Next up: Chromium milestone (aka, Satoshi R...</td>\n",
       "      <td>0.350000</td>\n",
       "      <td>-0.025000</td>\n",
       "      <td>Negative</td>\n",
       "    </tr>\n",
       "    <tr>\n",
       "      <th>2572680</th>\n",
       "      <td>CRYPTO BILLIONAIRE</td>\n",
       "      <td>121735.0</td>\n",
       "      <td>True</td>\n",
       "      <td>2022-03-14 20:14:14</td>\n",
       "      <td>If #XRP manages to hold above the $0.70 area i...</td>\n",
       "      <td>False</td>\n",
       "      <td>If  manages to hold above the $0.70 area in th...</td>\n",
       "      <td>0.366667</td>\n",
       "      <td>0.250000</td>\n",
       "      <td>Positive</td>\n",
       "    </tr>\n",
       "  </tbody>\n",
       "</table>\n",
       "<p>7590 rows × 10 columns</p>\n",
       "</div>"
      ],
      "text/plain": [
       "                  user_name  user_followers user_verified  \\\n",
       "880             Blockstream        131970.0          True   \n",
       "1411                   CNBC       3977144.0          True   \n",
       "1615             Squawk Box        283910.0          True   \n",
       "1665             Squawk Box        283910.0          True   \n",
       "1867          CoinMarketCap        731514.0          True   \n",
       "...                     ...             ...           ...   \n",
       "2563637              Phemex        497213.0          True   \n",
       "2567623       Pitbull Token        137248.0          True   \n",
       "2567733             Ash WSB        421646.0          True   \n",
       "2571611             DFINITY        579856.0          True   \n",
       "2572680  CRYPTO BILLIONAIRE        121735.0          True   \n",
       "\n",
       "                        date  \\\n",
       "880      2021-02-10 18:02:53   \n",
       "1411     2021-02-10 15:23:58   \n",
       "1615     2021-02-10 14:12:25   \n",
       "1665     2021-02-10 13:55:37   \n",
       "1867     2021-02-10 12:45:03   \n",
       "...                      ...   \n",
       "2563637  2022-03-15 08:10:01   \n",
       "2567623  2022-03-15 02:57:00   \n",
       "2567733  2022-03-15 02:45:33   \n",
       "2571611  2022-03-14 21:23:09   \n",
       "2572680  2022-03-14 20:14:14   \n",
       "\n",
       "                                                      text is_retweet  \\\n",
       "880      #BlockstreamAQUA is our new #Bitcoin and @Liqu...      False   \n",
       "1411     \"It has to be part of the menu,\" says @JimCram...      False   \n",
       "1615     \"It has to be part of the menu,\" says @JimCram...      False   \n",
       "1665     \"We've done a lot of the upfront thinking to c...      False   \n",
       "1867     This week, @intotheblock takes a dive into the...      False   \n",
       "...                                                    ...        ...   \n",
       "2563637  What are you trading today? 😃\\n\\nKeep up to da...      False   \n",
       "2567623  New #NFTCollection of #Pitbull Characters:Seas...      False   \n",
       "2567733  2020 we are broke \\n\\n2021 we became rich \\n\\n...      False   \n",
       "2571611  3/ Next up: Chromium milestone (aka, Satoshi R...      False   \n",
       "2572680  If #XRP manages to hold above the $0.70 area i...      False   \n",
       "\n",
       "                                              Cleaned_text  Subjectivity  \\\n",
       "880       is our new Bitcoin and _BTC wallet designed t...      0.762626   \n",
       "1411     \"It has to be part of the menu,\" says  on bitc...      0.000000   \n",
       "1615     \"It has to be part of the menu,\" says  on bitc...      0.000000   \n",
       "1665     \"We've done a lot of the upfront thinking to c...      0.000000   \n",
       "1867     This week,  takes a dive into the rather wacky...      1.000000   \n",
       "...                                                    ...           ...   \n",
       "2563637  What are you trading today? Keep up to date wi...      0.000000   \n",
       "2567623  New  of  Characters:Season 2 is NOW live on➡️➡...      0.713636   \n",
       "2567733  2020 we are broke 2021 we became rich 2022 we ...      0.750000   \n",
       "2571611  3/ Next up: Chromium milestone (aka, Satoshi R...      0.350000   \n",
       "2572680  If  manages to hold above the $0.70 area in th...      0.366667   \n",
       "\n",
       "         Polarity Sentiment  \n",
       "880      0.189899  Positive  \n",
       "1411     0.000000   Neutral  \n",
       "1615     0.000000   Neutral  \n",
       "1665     0.000000   Neutral  \n",
       "1867     0.500000  Positive  \n",
       "...           ...       ...  \n",
       "2563637  0.000000   Neutral  \n",
       "2567623  0.218182  Positive  \n",
       "2567733  0.375000  Positive  \n",
       "2571611 -0.025000  Negative  \n",
       "2572680  0.250000  Positive  \n",
       "\n",
       "[7590 rows x 10 columns]"
      ]
     },
     "execution_count": 159,
     "metadata": {},
     "output_type": "execute_result"
    }
   ],
   "source": [
    "df"
   ]
  },
  {
   "cell_type": "code",
   "execution_count": 170,
   "id": "60e810ce",
   "metadata": {},
   "outputs": [
    {
     "data": {
      "image/png": "[encoded data removed]",
      "text/plain": [
       "<Figure size 576x432 with 1 Axes>"
      ]
     },
     "metadata": {},
     "output_type": "display_data"
    }
   ],
   "source": [
    "plt.figure(figsize = (8,6))\n",
    "plt.scatter(df['Polarity'],df['Subjectivity'], color = 'Purple')\n",
    "plt.title('Sentiment Analysis Scatter Plot')\n",
    "plt.xlabel('Polarity')\n",
    "plt.ylabel('Subjectivity')\n",
    "plt.show()"
   ]
  },
  {
   "cell_type": "code",
   "execution_count": 172,
   "id": "5c69c8d0",
   "metadata": {},
   "outputs": [
    {
     "data": {
      "image/png": "[encoded data removed]",
      "text/plain": [
       "<Figure size 576x432 with 1 Axes>"
      ]
     },
     "metadata": {},
     "output_type": "display_data"
    }
   ],
   "source": [
    "plt.figure(figsize = (8,6))\n",
    "df['Sentiment'].value_counts().plot(kind = 'bar')\n",
    "plt.title('Sentiment Analysis Bar Plot')\n",
    "plt.xlabel('Sentiment')\n",
    "plt.ylabel('Number of Tweets')\n",
    "plt.show()"
   ]
  },
  {
   "cell_type": "code",
   "execution_count": null,
   "id": "c6a1b6fa",
   "metadata": {},
   "outputs": [],
   "source": []
  }
 ],
 "metadata": {
  "kernelspec": {
   "display_name": "Python 3 (ipykernel)",
   "language": "python",
   "name": "python3"
  },
  "language_info": {
   "codemirror_mode": {
    "name": "ipython",
    "version": 3
   },
   "file_extension": ".py",
   "mimetype": "text/x-python",
   "name": "python",
   "nbconvert_exporter": "python",
   "pygments_lexer": "ipython3",
   "version": "3.9.7"
  }
 },
 "nbformat": 4,
 "nbformat_minor": 5
}
